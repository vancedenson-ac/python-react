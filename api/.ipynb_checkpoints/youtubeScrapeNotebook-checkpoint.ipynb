{
 "cells": [
  {
   "cell_type": "code",
   "execution_count": null,
   "id": "bee582cb",
   "metadata": {},
   "outputs": [],
   "source": [
    "# !pip install \"fastapi[all]\"\n",
    "# !pip install httpx"
   ]
  }
 ],
 "metadata": {
  "kernelspec": {
   "display_name": "chatufo",
   "language": "python",
   "name": "chatufo"
  },
  "language_info": {
   "codemirror_mode": {
    "name": "ipython",
    "version": 3
   },
   "file_extension": ".py",
   "mimetype": "text/x-python",
   "name": "python",
   "nbconvert_exporter": "python",
   "pygments_lexer": "ipython3",
   "version": "3.11.4"
  }
 },
 "nbformat": 4,
 "nbformat_minor": 5
}
